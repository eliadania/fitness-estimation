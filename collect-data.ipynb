{
 "cells": [
  {
   "cell_type": "code",
   "execution_count": null,
   "metadata": {},
   "outputs": [],
   "source": [
    "!pip install -q -r requirements.txt"
   ]
  },
  {
   "cell_type": "code",
   "execution_count": null,
   "metadata": {},
   "outputs": [],
   "source": [
    "import cv2\n",
    "import pandas as pd\n",
    "import mediapipe as mp\n",
    "import matplotlib.pyplot as plt"
   ]
  },
  {
   "cell_type": "code",
   "execution_count": null,
   "metadata": {},
   "outputs": [],
   "source": [
    "def read_video(video_path):\n",
    "    video = cv2.VideoCapture(video_path)\n",
    "    width = int(cap.get(cv2.CAP_PROP_FRAME_WIDTH))\n",
    "    height = int(cap.get(cv2.CAP_PROP_FRAME_HEIGHT))    \n",
    "    frames = []\n",
    "\n",
    "    while video.isOpened():\n",
    "        success, frame = video.read()\n",
    "        if success:\n",
    "            frames.append(frame)\n",
    "        else:\n",
    "            break\n",
    "\n",
    "    video.release()\n",
    "    return frames"
   ]
  },
  {
   "cell_type": "code",
   "execution_count": null,
   "metadata": {},
   "outputs": [],
   "source": [
    "def process_frames(frames, min_detection_confidence=0.2, min_tracking_confidence=0.2):\n",
    "    mp_drawstyle = mp.solutions.drawing_styles\n",
    "    mp_drawing = mp.solutions.drawing_utils\n",
    "    mp_pose = mp.solutions.pose\n",
    "    \n",
    "    # Initialize the list of column names with 'frame'\n",
    "    columns = ['frame']\n",
    "    \n",
    "    # Extend the column list with x, y, z, and v columns for each index i\n",
    "    for i in range(33):\n",
    "        columns.extend([f'x{i}', f'y{i}', f'z{i}', f'v{i}'])\n",
    "\n",
    "    # Create an empty DataFrame with the defined columns\n",
    "    df = pd.DataFrame(columns=columns)\n",
    "\n",
    "    with mp_pose.Pose(\n",
    "        min_detection_confidence=min_detection_confidence,\n",
    "        static_image_mode=False,\n",
    "        model_complexity=2,\n",
    "        smooth_landmarks=True,\n",
    "        enable_segmentation=False,\n",
    "        smooth_segmentation=False,\n",
    "        min_tracking_confidence=min_tracking_confidence\n",
    "    ) as pose:\n",
    "        \n",
    "        # Iterate over each frame and its index\n",
    "        for i, fr in enumerate(frames):\n",
    "            # Convert frame color space from BGR to RGB\n",
    "            fr2 = cv2.cvtColor(fr, cv2.COLOR_BGR2RGB)\n",
    "\n",
    "            # Process frame with pose estimation model\n",
    "            results = pose.process(fr2)\n",
    "\n",
    "            # Skip to the next iteration if no pose landmarks are detected\n",
    "            if not results.pose_landmarks:\n",
    "                continue\n",
    "\n",
    "            # Draw landmarks on frame\n",
    "            mp_drawing.draw_landmarks(fr2, results.pose_landmarks, mp_pose.POSE_CONNECTIONS, landmark_drawing_spec=mp_drawstyle.get_default_pose_landmarks_style())\n",
    "            \n",
    "            # Store modified frame back into frames list\n",
    "            frames[i] = fr2\n",
    "            \n",
    "            # Initialize row for DataFrame with frame index\n",
    "            row = [i]\n",
    "\n",
    "            # Store pose landmark values in the DataFrame\n",
    "            for landmark in results.pose_landmarks.landmark:\n",
    "                row.extend([landmark.x, landmark.y, landmark.z, landmark.visibility])\n",
    "            \n",
    "            # Append row to the DataFrame\n",
    "            df.loc[i] = row\n",
    "\n",
    "    return frames, df"
   ]
  },
  {
   "cell_type": "code",
   "execution_count": null,
   "metadata": {},
   "outputs": [],
   "source": [
    "def save_to_csv(df, filename):\n",
    "    df.to_csv(filename, index=False)"
   ]
  },
  {
   "cell_type": "code",
   "execution_count": null,
   "metadata": {},
   "outputs": [],
   "source": [
    "def display_frame(frames, index=0):\n",
    "    plt.imshow(frames[index])\n",
    "    plt.tight_layout()\n",
    "    plt.show()"
   ]
  },
  {
   "cell_type": "code",
   "execution_count": null,
   "metadata": {},
   "outputs": [],
   "source": [
    "def collect_data(video_path, output_csv):\n",
    "    # Read video and get frames\n",
    "    frames = read_video(video_path)\n",
    "    \n",
    "    # Process frames and get DataFrame with pose landmarks\n",
    "    processed_frames, df = process_frames(frames)\n",
    "    \n",
    "    # Save DataFrame to CSV file\n",
    "    save_to_csv(df, output_csv)\n",
    "    \n",
    "    # Display the first frame with pose landmarks\n",
    "    display_frame(processed_frames)"
   ]
  },
  {
   "cell_type": "code",
   "execution_count": null,
   "metadata": {},
   "outputs": [],
   "source": [
    "collect_data('data/curl-front.mp4', 'coor_curl.csv')"
   ]
  },
  {
   "cell_type": "code",
   "execution_count": null,
   "metadata": {},
   "outputs": [],
   "source": [
    "collect_data('data/lat-raise.mp4', 'coor_lat.csv')"
   ]
  },
  {
   "cell_type": "code",
   "execution_count": null,
   "metadata": {},
   "outputs": [],
   "source": [
    "collect_data('data/shoulder-press.mp4', 'coor_spress.csv')"
   ]
  },
  {
   "cell_type": "code",
   "execution_count": null,
   "metadata": {},
   "outputs": [],
   "source": []
  }
 ],
 "metadata": {
  "kernelspec": {
   "display_name": "Python 3",
   "language": "python",
   "name": "python3"
  },
  "language_info": {
   "codemirror_mode": {
    "name": "ipython",
    "version": 3
   },
   "file_extension": ".py",
   "mimetype": "text/x-python",
   "name": "python",
   "nbconvert_exporter": "python",
   "pygments_lexer": "ipython3",
   "version": "3.9.2rc1"
  }
 },
 "nbformat": 4,
 "nbformat_minor": 2
}
